{
 "cells": [
  {
   "cell_type": "code",
   "execution_count": 10,
   "metadata": {
    "collapsed": true
   },
   "outputs": [],
   "source": [
    "#Load Python Modules and System Modules\n",
    "import time\n",
    "\n",
    "#Load Machine Learning Modules\n",
    "import pandas as pd\n",
    "import numpy as np\n",
    "from sklearn.neighbors import NearestNeighbors\n",
    "from scipy import stats\n",
    "from sklearn.model_selection import train_test_split"
   ]
  },
  {
   "cell_type": "markdown",
   "metadata": {},
   "source": [
    "# Data Loading and Proprocessing"
   ]
  },
  {
   "cell_type": "code",
   "execution_count": 23,
   "metadata": {},
   "outputs": [],
   "source": [
    "root=\"C:\\\\Users\\\\huang\\\\Dropbox (MIT)\\\\A Lab\\\\Data\\\\\"\n",
    "df= pd.read_excel(root+\"OrderedVisibleFeature-Featureset01.xlsx\")"
   ]
  },
  {
   "cell_type": "code",
   "execution_count": 26,
   "metadata": {},
   "outputs": [
    {
     "name": "stdout",
     "output_type": "stream",
     "text": [
      "total data size: (19001, 106)\n"
     ]
    }
   ],
   "source": [
    "print(\"total data size:\",df.shape)"
   ]
  },
  {
   "cell_type": "code",
   "execution_count": 12,
   "metadata": {},
   "outputs": [],
   "source": [
    "df, df_test=train_test_split(df,random_state=42,test_size=4000)"
   ]
  },
  {
   "cell_type": "code",
   "execution_count": 27,
   "metadata": {},
   "outputs": [
    {
     "name": "stdout",
     "output_type": "stream",
     "text": [
      "training data size: (19001, 106)\n",
      "testing data size: (4000, 106)\n"
     ]
    }
   ],
   "source": [
    "print(\"training data size:\",df.shape)\n",
    "print(\"testing data size:\",df_test.shape)"
   ]
  },
  {
   "cell_type": "code",
   "execution_count": null,
   "metadata": {
    "collapsed": true
   },
   "outputs": [],
   "source": [
    " "
   ]
  },
  {
   "cell_type": "code",
   "execution_count": null,
   "metadata": {
    "collapsed": true
   },
   "outputs": [],
   "source": []
  },
  {
   "cell_type": "markdown",
   "metadata": {},
   "source": [
    "# Model"
   ]
  },
  {
   "cell_type": "code",
   "execution_count": 2,
   "metadata": {
    "collapsed": true
   },
   "outputs": [],
   "source": [
    "update_step=5\n",
    "instant_update=False\n",
    "pred_length=5\n",
    "method=\"KNN\""
   ]
  },
  {
   "cell_type": "code",
   "execution_count": null,
   "metadata": {
    "collapsed": true
   },
   "outputs": [],
   "source": [
    "def KNN(step,K=10):\n",
    "    \"\"\"\n",
    "    Input:\n",
    "        df: The columns used to calculate the KNN\n",
    "    Output:\n",
    "    \n",
    "    \"\"\"\n",
    "    \n",
    "    #initiate the NearestNeighbour Classifier\n",
    "    #notice that in our case the metric is \"Manthattan\"\n",
    "    nbrs = NearestNeighbors(n_neighbors=K, algorithm='ball_tree',metric=\"manhattan\")\n",
    "    \n",
    "    #fit data\n",
    "    distances, indices = nbrs.kneighbors(pd.get_dummies(df_test.iloc[:, :step])\n",
    "    \n",
    "                                         "
   ]
  },
  {
   "cell_type": "code",
   "execution_count": null,
   "metadata": {
    "collapsed": true
   },
   "outputs": [],
   "source": [
    "def Frequency():\n",
    "    "
   ]
  },
  {
   "cell_type": "code",
   "execution_count": null,
   "metadata": {
    "collapsed": true
   },
   "outputs": [],
   "source": []
  },
  {
   "cell_type": "code",
   "execution_count": null,
   "metadata": {
    "collapsed": true
   },
   "outputs": [],
   "source": []
  },
  {
   "cell_type": "markdown",
   "metadata": {},
   "source": [
    "# Evaluation"
   ]
  },
  {
   "cell_type": "code",
   "execution_count": 30,
   "metadata": {},
   "outputs": [
    {
     "name": "stdout",
     "output_type": "stream",
     "text": [
      "5\n",
      "10\n",
      "15\n",
      "20\n",
      "25\n",
      "30\n",
      "35\n",
      "40\n",
      "45\n",
      "50\n",
      "55\n",
      "60\n",
      "65\n",
      "70\n",
      "75\n",
      "80\n",
      "85\n",
      "90\n",
      "95\n",
      "100\n",
      "105\n"
     ]
    }
   ],
   "source": [
    "p= df.shape[1]\n",
    "\n",
    "if method==\"KNN\":\n",
    "    model=KNN\n",
    "if method==\"Frequency\":\n",
    "    model=Frequency\n",
    "\n",
    "for step in range(update_step, p, update_step):\n",
    "    model(**args)"
   ]
  },
  {
   "cell_type": "code",
   "execution_count": null,
   "metadata": {
    "collapsed": true
   },
   "outputs": [],
   "source": []
  }
 ],
 "metadata": {
  "kernelspec": {
   "display_name": "Python 3",
   "language": "python",
   "name": "python3"
  },
  "language_info": {
   "codemirror_mode": {
    "name": "ipython",
    "version": 3
   },
   "file_extension": ".py",
   "mimetype": "text/x-python",
   "name": "python",
   "nbconvert_exporter": "python",
   "pygments_lexer": "ipython3",
   "version": "3.6.1"
  }
 },
 "nbformat": 4,
 "nbformat_minor": 2
}
